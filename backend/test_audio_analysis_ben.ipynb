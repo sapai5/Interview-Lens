{
 "cells": [
  {
   "cell_type": "code",
   "execution_count": 1,
   "metadata": {},
   "outputs": [
    {
     "name": "stdout",
     "output_type": "stream",
     "text": [
      "Note: you may need to restart the kernel to use updated packages.\n"
     ]
    }
   ],
   "source": [
    "%pip install --quiet amazon-transcribe soundcard numpy"
   ]
  },
  {
   "cell_type": "code",
   "execution_count": 3,
   "metadata": {},
   "outputs": [
    {
     "data": {
      "text/plain": [
       "False"
      ]
     },
     "execution_count": 3,
     "metadata": {},
     "output_type": "execute_result"
    }
   ],
   "source": [
    "import soundcard as sc\n",
    "import numpy as np\n",
    "import asyncio\n",
    "from collections import deque\n",
    "from amazon_transcribe.client import TranscribeStreamingClient\n",
    "from amazon_transcribe.handlers import TranscriptResultStreamHandler\n",
    "from amazon_transcribe.model import TranscriptEvent\n",
    "import time\n",
    "from dotenv import load_dotenv\n",
    "\n",
    "load_dotenv()"
   ]
  },
  {
   "cell_type": "code",
   "execution_count": 4,
   "metadata": {},
   "outputs": [
    {
     "name": "stdout",
     "output_type": "stream",
     "text": [
      "Available microphones:\n",
      " - Family 17h/19h HD Audio Controller Analog Stereo\n"
     ]
    }
   ],
   "source": [
    "print(\"Available microphones:\")\n",
    "for mic in sc.all_microphones():\n",
    "    print(f\" - {mic.name}\")"
   ]
  },
  {
   "cell_type": "code",
   "execution_count": 5,
   "metadata": {},
   "outputs": [],
   "source": [
    "class SpeechMetrics:\n",
    "    def __init__(self, window_seconds=60):\n",
    "        self.filler_words = {\n",
    "            'um': 0, 'uh': 0, 'er': 0, 'ah': 0, 'like': 0, \n",
    "            'you know': 0, 'sort of': 0, 'kind of': 0\n",
    "        }\n",
    "        self.total_words = 0\n",
    "        self.window_seconds = window_seconds\n",
    "        # Use deque to maintain a rolling window of words\n",
    "        self.word_timestamps = deque()\n",
    "        self.start_time = time.time()\n",
    "        \n",
    "    def add_words(self, text: str):\n",
    "        current_time = time.time()\n",
    "        words = text.lower().split()\n",
    "        \n",
    "        # Update total words\n",
    "        self.total_words += len(words)\n",
    "        \n",
    "        # Add timestamp for each word\n",
    "        for _ in words:\n",
    "            self.word_timestamps.append(current_time)\n",
    "        \n",
    "        # Remove timestamps older than window_seconds\n",
    "        while (self.word_timestamps and \n",
    "               current_time - self.word_timestamps[0] > self.window_seconds):\n",
    "            self.word_timestamps.popleft()\n",
    "        \n",
    "        # Count filler words\n",
    "        for filler in self.filler_words:\n",
    "            self.filler_words[filler] += text.lower().count(filler)\n",
    "    \n",
    "    def get_speech_rate(self):\n",
    "        \"\"\"Calculate words per minute in the current window\"\"\"\n",
    "        if not self.word_timestamps:\n",
    "            return 0\n",
    "        \n",
    "        # Count words in current window\n",
    "        current_time = time.time()\n",
    "        window_words = len([t for t in self.word_timestamps \n",
    "                          if current_time - t <= self.window_seconds])\n",
    "        \n",
    "        # Calculate words per minute\n",
    "        minutes = min(self.window_seconds / 60, \n",
    "                     (current_time - self.start_time) / 60)\n",
    "        return round(window_words / minutes) if minutes > 0 else 0\n",
    "    \n",
    "    def get_metrics_report(self):\n",
    "        wpm = self.get_speech_rate()\n",
    "        total_fillers = sum(self.filler_words.values())\n",
    "        \n",
    "        report = f\"\\n{'='*50}\\n\"\n",
    "        report += f\"Speech Metrics (last {self.window_seconds} seconds):\\n\"\n",
    "        report += f\"Speech Rate: {wpm} words per minute\\n\"\n",
    "        report += f\"Total Words: {self.total_words}\\n\"\n",
    "        report += f\"Total Filler Words: {total_fillers}\\n\"\n",
    "        report += \"\\nFiller Word Breakdown:\\n\"\n",
    "        for word, count in self.filler_words.items():\n",
    "            if count > 0:\n",
    "                report += f\"  - '{word}': {count}\\n\"\n",
    "        report += f\"{'='*50}\"\n",
    "        return report\n",
    "\n",
    "metrics = SpeechMetrics(window_seconds=60)  # Track last 60 seconds"
   ]
  },
  {
   "cell_type": "code",
   "execution_count": 6,
   "metadata": {},
   "outputs": [],
   "source": [
    "# class MyEventHandler(TranscriptResultStreamHandler):\n",
    "#     async def handle_transcript_event(self, transcript_event: TranscriptEvent):\n",
    "#         results = transcript_event.transcript.results\n",
    "#         for result in results:\n",
    "#             for alt in result.alternatives:\n",
    "#                 print(alt.transcript)\n",
    "\n",
    "class MyEventHandler(TranscriptResultStreamHandler):\n",
    "    async def handle_transcript_event(self, transcript_event: TranscriptEvent):\n",
    "        results = transcript_event.transcript.results\n",
    "        \n",
    "        for result in results:\n",
    "            # Only process completed transcriptions\n",
    "            if not result.is_partial:\n",
    "                for alt in result.alternatives:\n",
    "                    transcript = alt.transcript\n",
    "                    print(f\"\\nTranscript: {transcript}\")\n",
    "                    \n",
    "                    # Update metrics\n",
    "                    metrics.add_words(transcript)\n",
    "                    # print(metrics.get_metrics_report())"
   ]
  },
  {
   "cell_type": "code",
   "execution_count": 7,
   "metadata": {},
   "outputs": [],
   "source": [
    "async def capture_audio(stream):\n",
    "    # Audio parameters\n",
    "    samplerate = 16000  # Required by Amazon Transcribe\n",
    "    chunk_size = 1024   # Number of frames per chunk\n",
    "    \n",
    "    # Get default microphone\n",
    "    mic = sc.default_microphone()\n",
    "    \n",
    "    async def audio_stream():\n",
    "        try:\n",
    "            with mic.recorder(samplerate=samplerate, channels=1, blocksize=chunk_size) as recorder:\n",
    "                print(\"🎤 Listening... Press Ctrl+C to stop.\")\n",
    "                while True:\n",
    "                    # Record audio chunk\n",
    "                    data = recorder.record(chunk_size)\n",
    "                    # Convert to the right format (int16) and then to bytes\n",
    "                    audio_chunk = (data * 32767).astype(np.int16).tobytes()\n",
    "                    await stream.input_stream.send_audio_event(audio_chunk=audio_chunk)\n",
    "                    await asyncio.sleep(0.001)  # Small delay to prevent CPU overload\n",
    "        except KeyboardInterrupt:\n",
    "            print(\"\\nStopping...\")\n",
    "        finally:\n",
    "            await stream.input_stream.end_stream()\n",
    "    \n",
    "    await audio_stream()"
   ]
  },
  {
   "cell_type": "code",
   "execution_count": 8,
   "metadata": {},
   "outputs": [
    {
     "name": "stdout",
     "output_type": "stream",
     "text": [
      "🎤 Listening... Press Ctrl+C to stop.\n",
      "\n",
      "Transcript: Testing\n",
      "\n",
      "Transcript: Hello.\n",
      "\n",
      "Transcript: It's not going as fast as it should be.\n"
     ]
    },
    {
     "name": "stderr",
     "output_type": "stream",
     "text": [
      "Traceback (most recent call last):\n",
      "  File \"/home/ben/.local/lib/python3.10/site-packages/awscrt/http.py\", line 242, in _on_body\n",
      "    self._on_body_cb(http_stream=self, chunk=chunk)\n",
      "  File \"/home/ben/.local/lib/python3.10/site-packages/amazon_transcribe/httpsession.py\", line 100, in _on_body\n",
      "    future.set_result(chunk)\n",
      "  File \"/gnu/store/igala9wg4wbv0d4b0rl2yh5yvy0aiyxh-python-3.10.7/lib/python3.10/concurrent/futures/_base.py\", line 546, in set_result\n",
      "    raise InvalidStateError('{}: {!r}'.format(self._state, self))\n",
      "concurrent.futures._base.InvalidStateError: CANCELLED: <Future at 0x7f8471d7bfd0 state=cancelled>\n",
      "Treating Python exception as error 3(AWS_ERROR_UNKNOWN)\n"
     ]
    },
    {
     "ename": "CancelledError",
     "evalue": "",
     "output_type": "error",
     "traceback": [
      "\u001b[0;31m---------------------------------------------------------------------------\u001b[0m",
      "\u001b[0;31mCancelledError\u001b[0m                            Traceback (most recent call last)",
      "File \u001b[0;32m~/.local/lib/python3.10/site-packages/amazon_transcribe/handlers.py:26\u001b[0m, in \u001b[0;36mTranscriptResultStreamHandler.handle_events\u001b[0;34m(self)\u001b[0m\n\u001b[1;32m     23\u001b[0m \u001b[38;5;250m\u001b[39m\u001b[38;5;124;03m\"\"\"Process generic incoming events from Amazon Transcribe\u001b[39;00m\n\u001b[1;32m     24\u001b[0m \u001b[38;5;124;03mand delegate to appropriate sub-handlers.\u001b[39;00m\n\u001b[1;32m     25\u001b[0m \u001b[38;5;124;03m\"\"\"\u001b[39;00m\n\u001b[0;32m---> 26\u001b[0m \u001b[38;5;28;01masync\u001b[39;00m \u001b[38;5;28;01mfor\u001b[39;00m event \u001b[38;5;129;01min\u001b[39;00m \u001b[38;5;28mself\u001b[39m\u001b[38;5;241m.\u001b[39m_transcript_result_stream:\n\u001b[1;32m     27\u001b[0m     \u001b[38;5;28;01mif\u001b[39;00m \u001b[38;5;28misinstance\u001b[39m(event, TranscriptEvent):\n",
      "File \u001b[0;32m~/.local/lib/python3.10/site-packages/amazon_transcribe/eventstream.py:665\u001b[0m, in \u001b[0;36mEventStream.__aiter__\u001b[0;34m(self)\u001b[0m\n\u001b[1;32m    664\u001b[0m \u001b[38;5;28;01masync\u001b[39;00m \u001b[38;5;28;01mdef\u001b[39;00m \u001b[38;5;21m__aiter__\u001b[39m(\u001b[38;5;28mself\u001b[39m):\n\u001b[0;32m--> 665\u001b[0m     \u001b[38;5;28;01masync\u001b[39;00m \u001b[38;5;28;01mfor\u001b[39;00m event \u001b[38;5;129;01min\u001b[39;00m \u001b[38;5;28mself\u001b[39m\u001b[38;5;241m.\u001b[39m_event_generator:\n\u001b[1;32m    666\u001b[0m         parsed_event \u001b[38;5;241m=\u001b[39m \u001b[38;5;28mself\u001b[39m\u001b[38;5;241m.\u001b[39m_parser\u001b[38;5;241m.\u001b[39mparse(event)\n",
      "File \u001b[0;32m~/.local/lib/python3.10/site-packages/amazon_transcribe/eventstream.py:671\u001b[0m, in \u001b[0;36mEventStream._create_raw_event_generator\u001b[0;34m(self)\u001b[0m\n\u001b[1;32m    670\u001b[0m event_stream_buffer \u001b[38;5;241m=\u001b[39m EventStreamBuffer()\n\u001b[0;32m--> 671\u001b[0m \u001b[38;5;28;01masync\u001b[39;00m \u001b[38;5;28;01mfor\u001b[39;00m chunk \u001b[38;5;129;01min\u001b[39;00m \u001b[38;5;28mself\u001b[39m\u001b[38;5;241m.\u001b[39m_raw_stream\u001b[38;5;241m.\u001b[39mchunks():\n\u001b[1;32m    672\u001b[0m     event_stream_buffer\u001b[38;5;241m.\u001b[39madd_data(chunk)\n",
      "File \u001b[0;32m~/.local/lib/python3.10/site-packages/amazon_transcribe/httpsession.py:85\u001b[0m, in \u001b[0;36mAwsCrtHttpResponse.chunks\u001b[0;34m(self)\u001b[0m\n\u001b[1;32m     84\u001b[0m \u001b[38;5;28;01mwhile\u001b[39;00m \u001b[38;5;28;01mTrue\u001b[39;00m:\n\u001b[0;32m---> 85\u001b[0m     chunk \u001b[38;5;241m=\u001b[39m \u001b[38;5;28;01mawait\u001b[39;00m \u001b[38;5;28mself\u001b[39m\u001b[38;5;241m.\u001b[39mget_chunk()\n\u001b[1;32m     86\u001b[0m     \u001b[38;5;28;01mif\u001b[39;00m chunk:\n",
      "\u001b[0;31mCancelledError\u001b[0m: ",
      "\nDuring handling of the above exception, another exception occurred:\n",
      "\u001b[0;31mCancelledError\u001b[0m                            Traceback (most recent call last)",
      "Cell \u001b[0;32mIn [8], line 19\u001b[0m\n\u001b[1;32m     16\u001b[0m     \u001b[38;5;28;01mawait\u001b[39;00m asyncio\u001b[38;5;241m.\u001b[39mgather(capture_audio(stream), handler\u001b[38;5;241m.\u001b[39mhandle_events())\n\u001b[1;32m     18\u001b[0m \u001b[38;5;66;03m# Run in Jupyter\u001b[39;00m\n\u001b[0;32m---> 19\u001b[0m \u001b[38;5;28;01mawait\u001b[39;00m main()\n",
      "Cell \u001b[0;32mIn [8], line 16\u001b[0m, in \u001b[0;36mmain\u001b[0;34m()\u001b[0m\n\u001b[1;32m     13\u001b[0m handler \u001b[38;5;241m=\u001b[39m MyEventHandler(stream\u001b[38;5;241m.\u001b[39moutput_stream)\n\u001b[1;32m     15\u001b[0m \u001b[38;5;66;03m# Start capturing and transcribing\u001b[39;00m\n\u001b[0;32m---> 16\u001b[0m \u001b[38;5;28;01mawait\u001b[39;00m asyncio\u001b[38;5;241m.\u001b[39mgather(capture_audio(stream), handler\u001b[38;5;241m.\u001b[39mhandle_events())\n",
      "\u001b[0;31mCancelledError\u001b[0m: "
     ]
    }
   ],
   "source": [
    "async def main():\n",
    "    # Create client\n",
    "    client = TranscribeStreamingClient(region=\"us-east-1\")  # Change region if needed\n",
    "\n",
    "    # Start transcription stream\n",
    "    stream = await client.start_stream_transcription(\n",
    "        language_code=\"en-US\",\n",
    "        media_sample_rate_hz=16000,\n",
    "        media_encoding=\"pcm\"\n",
    "    )\n",
    "\n",
    "    # Create and start handler\n",
    "    handler = MyEventHandler(stream.output_stream)\n",
    "    \n",
    "    # Start capturing and transcribing\n",
    "    await asyncio.gather(capture_audio(stream), handler.handle_events())\n",
    "\n",
    "# Run in Jupyter\n",
    "await main()"
   ]
  }
 ],
 "metadata": {
  "kernelspec": {
   "display_name": "Python 3 (ipykernel)",
   "language": "/gnu/store/igala9wg4wbv0d4b0rl2yh5yvy0aiyxh-python-3.10.7/bin/python3",
   "name": "python3"
  },
  "language_info": {
   "codemirror_mode": {
    "name": "ipython",
    "version": 3
   },
   "file_extension": ".py",
   "mimetype": "text/x-python",
   "name": "python",
   "nbconvert_exporter": "python",
   "pygments_lexer": "ipython3",
   "version": "3.10.7"
  }
 },
 "nbformat": 4,
 "nbformat_minor": 2
}
